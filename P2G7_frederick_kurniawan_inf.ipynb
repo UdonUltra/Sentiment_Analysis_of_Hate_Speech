{
  "cells": [
    {
      "cell_type": "markdown",
      "metadata": {
        "id": "YoI3vXW5MAro"
      },
      "source": [
        "# **Graded Challenge 7**\n",
        "\n",
        "---"
      ]
    },
    {
      "cell_type": "markdown",
      "metadata": {
        "id": "Yo9dE80sMDZD"
      },
      "source": [
        "# **1. Introduction**"
      ]
    },
    {
      "cell_type": "markdown",
      "metadata": {
        "id": "uc7m85MgMHbq"
      },
      "source": [
        "Name  : Frederick Kurniawan Putra\n",
        "\n",
        "Batch : HCK-016  \n",
        "\n",
        "**Objective**  \n",
        "The Goal of this project is create ann model to analyze sentiment on content in social media to know if the content is hate speech or non hate speech."
      ]
    },
    {
      "cell_type": "markdown",
      "metadata": {
        "id": "q079s3r2MLpO"
      },
      "source": [
        "# **Inference**"
      ]
    },
    {
      "cell_type": "code",
      "execution_count": 1,
      "metadata": {
        "id": "014colVEaNoe"
      },
      "outputs": [],
      "source": [
        "import pandas as pd\n",
        "import numpy as np\n",
        "import tensorflow as tf\n",
        "from tensorflow.keras.layers import Dense, Concatenate, Input, Dropout\n",
        "from tensorflow.keras.models import load_model, Sequential, Model"
      ]
    },
    {
      "cell_type": "code",
      "execution_count": 3,
      "metadata": {
        "id": "fAnO9HKYasnc"
      },
      "outputs": [],
      "source": [
        "# load model\n",
        "model_1 = load_model('model_lstm_3.keras')"
      ]
    },
    {
      "cell_type": "code",
      "execution_count": 12,
      "metadata": {
        "colab": {
          "base_uri": "https://localhost:8080/"
        },
        "id": "m1wbvJC6a_te",
        "outputId": "e3b2fae9-135e-4460-afbb-35611e0b3dae"
      },
      "outputs": [
        {
          "name": "stdout",
          "output_type": "stream",
          "text": [
            "                                             Content  Label\n",
            "0                thanks charlie have a great evening      0\n",
            "1  spending money on these hoes nigga you are not...      1\n",
            "2    subtweet me one more time you dirty chink whore      1\n"
          ]
        }
      ],
      "source": [
        "# Assuming data_dummy is your dictionary\n",
        "data_dummy = {\n",
        "    'Content': [\n",
        "        'thanks charlie have a great evening', 'spending money on these hoes nigga you are not fuck shit red exclamation mark',\n",
        "        'subtweet me one more time you dirty chink whore'\n",
        "    ],\n",
        "    'Label': [\n",
        "        0, 1, 1\n",
        "    ]\n",
        "}\n",
        "\n",
        "# Create DataFrame\n",
        "df_data_dummy = pd.DataFrame(data_dummy)\n",
        "\n",
        "# Display DataFrame\n",
        "print(df_data_dummy.head())"
      ]
    },
    {
      "cell_type": "code",
      "execution_count": 17,
      "metadata": {
        "colab": {
          "base_uri": "https://localhost:8080/"
        },
        "id": "If1ewnCBeL5V",
        "outputId": "21ef6604-2dcf-4766-fa65-d0f722fe7eed"
      },
      "outputs": [
        {
          "name": "stdout",
          "output_type": "stream",
          "text": [
            "1/1 [==============================] - 0s 64ms/step\n"
          ]
        },
        {
          "data": {
            "text/plain": [
              "<tf.Tensor: shape=(3, 1), dtype=int32, numpy=\n",
              "array([[1],\n",
              "       [1],\n",
              "       [0]], dtype=int32)>"
            ]
          },
          "execution_count": 17,
          "metadata": {},
          "output_type": "execute_result"
        }
      ],
      "source": [
        "predict_proba = model_1.predict(df_data_dummy['Content'])\n",
        "predictions = tf.where(predict_proba >= 0.5, 1, 0)\n",
        "predictions"
      ]
    }
  ],
  "metadata": {
    "colab": {
      "provenance": []
    },
    "kernelspec": {
      "display_name": "Python 3",
      "name": "python3"
    },
    "language_info": {
      "name": "python",
      "version": "3.12.3"
    }
  },
  "nbformat": 4,
  "nbformat_minor": 0
}
